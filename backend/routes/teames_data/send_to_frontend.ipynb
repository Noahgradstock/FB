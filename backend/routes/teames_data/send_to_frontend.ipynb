{
 "cells": [
  {
   "cell_type": "code",
   "execution_count": 1,
   "id": "75ac42ca",
   "metadata": {},
   "outputs": [],
   "source": [
    "import pandas as pd\n",
    "import numpy as np\n",
    "pd.set_option(\"display.max_columns\", None)\n",
    "pd.set_option(\"display.width\", None)"
   ]
  },
  {
   "cell_type": "code",
   "execution_count": 6,
   "id": "33b8fc39",
   "metadata": {},
   "outputs": [
    {
     "name": "stderr",
     "output_type": "stream",
     "text": [
      "/var/folders/rt/kk5y63zd2dl20zp4x97pdp2m0000gn/T/ipykernel_9236/2438252128.py:19: PerformanceWarning: DataFrame is highly fragmented.  This is usually the result of calling `frame.insert` many times, which has poor performance.  Consider joining all columns at once using pd.concat(axis=1) instead. To get a de-fragmented frame, use `newframe = frame.copy()`\n",
      "  df.reset_index(inplace=True)\n"
     ]
    }
   ],
   "source": [
    "season_list = ['1718', '1819', '1920', '2021', '2122', '2223', '2324', '2425']\n",
    "league_eng = 'E0'\n",
    "\n",
    "\n",
    "df_list_eng = []\n",
    "\n",
    "for season in season_list:\n",
    "    data_url = f'https://www.football-data.co.uk/mmz4281/{season}/{league_eng}.csv'\n",
    "    df = pd.read_csv(data_url)\n",
    "    df_list_eng.append(df)\n",
    "\n",
    "main_df = pd.concat(df_list_eng)\n",
    "\n",
    "main_df['Date'] = pd.to_datetime(main_df['Date'], format='%d/%m/%Y')\n",
    "main_df = main_df.sort_values(by='Date')\n",
    "\n",
    "df = main_df\n",
    "df = df[::-1]\n",
    "df.reset_index(inplace=True)"
   ]
  },
  {
   "cell_type": "code",
   "execution_count": 7,
   "id": "1042c32e",
   "metadata": {},
   "outputs": [],
   "source": [
    "df_swe = pd.read_csv('https://www.football-data.co.uk/new/SWE.csv')\n",
    "\n",
    "df_swe['Date'] = pd.to_datetime(df_swe['Date'], format='%d/%m/%Y')\n",
    "df_swe= df_swe.sort_values(by='Date')\n",
    "df_swe = df_swe[::-1]\n",
    "\n",
    "df_swe.reset_index(inplace=True)"
   ]
  },
  {
   "cell_type": "code",
   "execution_count": 8,
   "id": "cdfb4529",
   "metadata": {},
   "outputs": [],
   "source": [
    "def get_teams_result(df):\n",
    "    resultat = {}\n",
    "\n",
    "    teams = set(df[\"HomeTeam\"]).union(set(df[\"AwayTeam\"]))\n",
    "\n",
    "    for team in teams:\n",
    "        resultat[team] = {}\n",
    "        \n",
    "    for _, rad in df.iterrows():\n",
    "        hemma, borta = rad[\"HomeTeam\"], rad[\"AwayTeam\"]\n",
    "        mål_a, mål_b = rad[\"FTHG\"], rad[\"FTAG\"]\n",
    "\n",
    "        if hemma not in resultat:\n",
    "            resultat[hemma] = {}\n",
    "        if borta not in resultat:\n",
    "            resultat[borta] = {}\n",
    "\n",
    "        if borta not in resultat[hemma]:\n",
    "            resultat[hemma][borta] = {\"Vinster\": 0, \"Förluster\": 0, \"Oavgjorda\": 0}\n",
    "        if hemma not in resultat[borta]:\n",
    "            resultat[borta][hemma] = {\"Vinster\": 0, \"Förluster\": 0, \"Oavgjorda\": 0}\n",
    "\n",
    "        if mål_a > mål_b: \n",
    "            resultat[hemma][borta][\"Vinster\"] += 1\n",
    "            resultat[borta][hemma][\"Förluster\"] += 1\n",
    "        elif mål_a < mål_b: \n",
    "            resultat[borta][hemma][\"Vinster\"] += 1\n",
    "            resultat[hemma][borta][\"Förluster\"] += 1\n",
    "        else:\n",
    "            resultat[hemma][borta][\"Oavgjorda\"] += 1\n",
    "            resultat[borta][hemma][\"Oavgjorda\"] += 1\n",
    "            \n",
    "    return resultat\n",
    "\n",
    "#get_teams_result(df)['Man City']"
   ]
  },
  {
   "cell_type": "code",
   "execution_count": 9,
   "id": "d95833ce",
   "metadata": {},
   "outputs": [],
   "source": [
    "def get_home_vs_away_summary(df, home_team, away_team):\n",
    "\n",
    "    matcher = df[(df[\"HomeTeam\"] == home_team) & (df[\"AwayTeam\"] == away_team)]\n",
    "\n",
    "    resultat = {\"Vinster\": 0, \"Förluster\": 0, \"Oavgjorda\": 0}\n",
    "\n",
    "    for _, rad in matcher.iterrows():\n",
    "        mål_hemma = rad[\"FTHG\"]\n",
    "        mål_borta = rad[\"FTAG\"]\n",
    "\n",
    "        if mål_hemma > mål_borta:\n",
    "            resultat[\"Vinster\"] += 1\n",
    "        elif mål_hemma < mål_borta:\n",
    "            resultat[\"Förluster\"] += 1\n",
    "        else:\n",
    "            resultat[\"Oavgjorda\"] += 1\n",
    "\n",
    "    return resultat\n",
    "\n",
    "#get_home_vs_away_summary(df,'Liverpool', 'Arsenal')"
   ]
  },
  {
   "cell_type": "code",
   "execution_count": 10,
   "id": "2f42d283",
   "metadata": {},
   "outputs": [],
   "source": [
    "def get_team_league_test():\n",
    "    teams = []\n",
    "\n",
    "    # Hantera engelska ligor (Div)\n",
    "    all_eng_teams = df['HomeTeam'].astype(str).tolist() + df['AwayTeam'].astype(str).tolist()   \n",
    "    unique_eng_teams = np.unique(all_eng_teams)\n",
    "    teams.extend([str(team) for team in unique_eng_teams])\n",
    "\n",
    "    # Hämta ligor från båda dataframes\n",
    "    english_leagues = sorted(df['Div'].astype(str).unique().tolist())\n",
    "    swedish_leagues = sorted(df_swe['League'].astype(str).unique().tolist())\n",
    "\n",
    "    all_leagues = english_leagues + swedish_leagues\n",
    "    return teams, all_leagues"
   ]
  },
  {
   "cell_type": "code",
   "execution_count": 11,
   "id": "1850e9f9",
   "metadata": {},
   "outputs": [],
   "source": [
    "def get_team_league():\n",
    "    teams_by_league = []\n",
    "    all_leagues = []\n",
    "\n",
    "    # Hantera engelska ligor\n",
    "    english_leagues = sorted(df['Div'].astype(str).unique().tolist())\n",
    "    for league in english_leagues:\n",
    "        league_df = df[df['Div'] == league]\n",
    "        teams = league_df['HomeTeam'].astype(str).tolist() + league_df['AwayTeam'].astype(str).tolist()\n",
    "        unique_teams = sorted(np.unique(teams))\n",
    "        teams_by_league.append(unique_teams)\n",
    "        all_leagues.append(league)\n",
    "\n",
    "    # Hantera svenska ligor, ta bort whitespaces och duplicates\n",
    "    swedish_leagues_raw = df_swe['League'].astype(str).str.strip()\n",
    "    swedish_leagues = sorted(swedish_leagues_raw.unique().tolist())\n",
    "\n",
    "    for league in swedish_leagues:\n",
    "        league_df = df_swe[df_swe['League'].str.strip() == league]\n",
    "        teams = league_df['Home'].astype(str).tolist() + league_df['Away'].astype(str).tolist()\n",
    "        unique_teams = sorted(np.unique(teams))\n",
    "        teams_by_league.append(unique_teams)\n",
    "        all_leagues.append(league)\n",
    "\n",
    "    return teams_by_league, all_leagues"
   ]
  },
  {
   "cell_type": "code",
   "execution_count": 12,
   "id": "b9c5a8a3",
   "metadata": {},
   "outputs": [],
   "source": [
    "col_list = ['Div', 'Date', 'HomeTeam', 'AwayTeam', 'FTHG', 'FTAG', 'B365H', 'B365D', 'B365A']"
   ]
  },
  {
   "cell_type": "code",
   "execution_count": 13,
   "id": "efe3cf56",
   "metadata": {},
   "outputs": [],
   "source": [
    "def get_team_form(df, team, num_matches=20):\n",
    "\n",
    "    team_matches = df[(df['HomeTeam'] == team) | (df['AwayTeam'] == team)].copy()\n",
    "\n",
    "    team_matches = team_matches.sort_values(by='Date', ascending=False).head(num_matches)\n",
    "\n",
    "    form = []\n",
    "\n",
    "    for _, row in team_matches.iterrows():\n",
    "        is_home = row['HomeTeam'] == team\n",
    "        goals_for = row['FTHG'] if is_home else row['FTAG']\n",
    "        goals_against = row['FTAG'] if is_home else row['FTHG']\n",
    "\n",
    "        if goals_for > goals_against:\n",
    "            form.append('W')\n",
    "        elif goals_for == goals_against:\n",
    "            form.append('D')\n",
    "        else:\n",
    "            form.append('L')\n",
    "\n",
    "    return form[::-1]  \n",
    "\n",
    "#get_team_form(df, 'Tottenham')"
   ]
  },
  {
   "cell_type": "code",
   "execution_count": null,
   "id": "9364dcb8",
   "metadata": {},
   "outputs": [
    {
     "data": {
      "text/plain": [
       "[{'HomeTeam': 'Chelsea', 'AwayTeam': 'Everton'},\n",
       " {'HomeTeam': 'Brighton', 'AwayTeam': 'West Ham'},\n",
       " {'HomeTeam': 'Newcastle', 'AwayTeam': 'Ipswich'},\n",
       " {'HomeTeam': 'Southampton', 'AwayTeam': 'Fulham'},\n",
       " {'HomeTeam': 'Wolves', 'AwayTeam': 'Leicester'},\n",
       " {'HomeTeam': 'Bournemouth', 'AwayTeam': 'Man United'},\n",
       " {'HomeTeam': 'Liverpool', 'AwayTeam': 'Tottenham'}]"
      ]
     },
     "execution_count": 19,
     "metadata": {},
     "output_type": "execute_result"
    }
   ],
   "source": [
    "def get_fixture_by_league(league):\n",
    "    df_next_games = pd.read_csv('https://www.football-data.co.uk/fixtures.csv')\n",
    "    df_next_games['Date'] = pd.to_datetime(df_next_games['Date'], format='%d/%m/%Y', errors='coerce')\n",
    "    \n",
    "    today = pd.Timestamp.today().normalize()\n",
    "    df_next_games = df_next_games[df_next_games['Date'] >= today]\n",
    "\n",
    "    if league in df_next_games['Div'].unique():\n",
    "        league_fixtures = df_next_games[df_next_games['Div'] == league]\n",
    "        fixtures_list = league_fixtures[['HomeTeam', 'AwayTeam']].dropna().to_dict(orient='records')\n",
    "        return fixtures_list\n",
    "    else:\n",
    "        return []\n",
    "\n"
   ]
  },
  {
   "cell_type": "code",
   "execution_count": null,
   "id": "305e4d65",
   "metadata": {},
   "outputs": [],
   "source": []
  }
 ],
 "metadata": {
  "kernelspec": {
   "display_name": "venv",
   "language": "python",
   "name": "python3"
  },
  "language_info": {
   "codemirror_mode": {
    "name": "ipython",
    "version": 3
   },
   "file_extension": ".py",
   "mimetype": "text/x-python",
   "name": "python",
   "nbconvert_exporter": "python",
   "pygments_lexer": "ipython3",
   "version": "3.12.2"
  }
 },
 "nbformat": 4,
 "nbformat_minor": 5
}
