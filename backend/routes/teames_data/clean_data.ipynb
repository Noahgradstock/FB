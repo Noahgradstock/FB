{
 "cells": [
  {
   "cell_type": "code",
   "execution_count": 1,
   "id": "75ac42ca",
   "metadata": {},
   "outputs": [],
   "source": [
    "import pandas as pd\n",
    "import numpy as np\n",
    "pd.set_option(\"display.max_columns\", None)\n",
    "pd.set_option(\"display.width\", None)"
   ]
  },
  {
   "cell_type": "code",
   "execution_count": 2,
   "id": "33b8fc39",
   "metadata": {},
   "outputs": [],
   "source": [
    "season_list = ['1718', '1819', '1920', '2021', '2122', '2223', '2324', '2425']\n",
    "league = 'E0'\n",
    "\n",
    "df_list = []\n",
    "\n",
    "for season in season_list:\n",
    "    data_url = f'https://www.football-data.co.uk/mmz4281/{season}/{league}.csv'\n",
    "    df = pd.read_csv(data_url)\n",
    "    df_list.append(df)\n",
    "\n",
    "main_df = pd.concat(df_list)\n",
    "\n",
    "main_df['Date'] = pd.to_datetime(main_df['Date'], format='%d/%m/%Y')\n",
    "main_df = main_df.sort_values(by='Date')\n",
    "\n",
    "df = main_df\n",
    "df = df[::-1]"
   ]
  },
  {
   "cell_type": "code",
   "execution_count": 3,
   "id": "cdfb4529",
   "metadata": {},
   "outputs": [],
   "source": [
    "def get_teams_result(df):\n",
    "    resultat = {}\n",
    "\n",
    "    teams = set(df[\"HomeTeam\"]).union(set(df[\"AwayTeam\"]))\n",
    "\n",
    "    for team in teams:\n",
    "        resultat[team] = {}\n",
    "        \n",
    "    for _, rad in df.iterrows():\n",
    "        hemma, borta = rad[\"HomeTeam\"], rad[\"AwayTeam\"]\n",
    "        mål_a, mål_b = rad[\"FTHG\"], rad[\"FTAG\"]\n",
    "\n",
    "        if hemma not in resultat:\n",
    "            resultat[hemma] = {}\n",
    "        if borta not in resultat:\n",
    "            resultat[borta] = {}\n",
    "\n",
    "        if borta not in resultat[hemma]:\n",
    "            resultat[hemma][borta] = {\"Vinster\": 0, \"Förluster\": 0, \"Oavgjorda\": 0}\n",
    "        if hemma not in resultat[borta]:\n",
    "            resultat[borta][hemma] = {\"Vinster\": 0, \"Förluster\": 0, \"Oavgjorda\": 0}\n",
    "\n",
    "        if mål_a > mål_b: \n",
    "            resultat[hemma][borta][\"Vinster\"] += 1\n",
    "            resultat[borta][hemma][\"Förluster\"] += 1\n",
    "        elif mål_a < mål_b: \n",
    "            resultat[borta][hemma][\"Vinster\"] += 1\n",
    "            resultat[hemma][borta][\"Förluster\"] += 1\n",
    "        else:\n",
    "            resultat[hemma][borta][\"Oavgjorda\"] += 1\n",
    "            resultat[borta][hemma][\"Oavgjorda\"] += 1\n",
    "            \n",
    "    return resultat\n",
    "\n",
    "#get_teams_result(df)['Man City']"
   ]
  },
  {
   "cell_type": "code",
   "execution_count": 4,
   "id": "d95833ce",
   "metadata": {},
   "outputs": [],
   "source": [
    "def get_home_vs_away_summary(df, home_team, away_team):\n",
    "\n",
    "    matcher = df[(df[\"HomeTeam\"] == home_team) & (df[\"AwayTeam\"] == away_team)]\n",
    "\n",
    "    resultat = {\"Vinster\": 0, \"Förluster\": 0, \"Oavgjorda\": 0}\n",
    "\n",
    "    for _, rad in matcher.iterrows():\n",
    "        mål_hemma = rad[\"FTHG\"]\n",
    "        mål_borta = rad[\"FTAG\"]\n",
    "\n",
    "        if mål_hemma > mål_borta:\n",
    "            resultat[\"Vinster\"] += 1\n",
    "        elif mål_hemma < mål_borta:\n",
    "            resultat[\"Förluster\"] += 1\n",
    "        else:\n",
    "            resultat[\"Oavgjorda\"] += 1\n",
    "\n",
    "    return resultat\n",
    "\n",
    "#get_home_vs_away_summary(df,'Liverpool', 'Arsenal')"
   ]
  },
  {
   "cell_type": "code",
   "execution_count": 5,
   "id": "2f42d283",
   "metadata": {},
   "outputs": [],
   "source": [
    "def get_teams_by_league(league):\n",
    "    league_df = df[df[\"Div\"] == league]\n",
    "    home_teams = league_df['HomeTeam'].astype(str).tolist()\n",
    "    away_teams = league_df['AwayTeam'].astype(str).tolist()\n",
    "    unique_teams = sorted(np.unique(home_teams + away_teams))\n",
    "    return unique_teams\n",
    "\n"
   ]
  },
  {
   "cell_type": "code",
   "execution_count": 6,
   "id": "b9c5a8a3",
   "metadata": {},
   "outputs": [],
   "source": [
    "col_list = ['Div', 'Date', 'HomeTeam', 'AwayTeam', 'FTHG', 'FTAG', 'B365H', 'B365D', 'B365A']"
   ]
  },
  {
   "cell_type": "code",
   "execution_count": null,
   "id": "efe3cf56",
   "metadata": {},
   "outputs": [],
   "source": [
    "def get_team_form(df, team, num_matches=20):\n",
    "\n",
    "    team_matches = df[(df['HomeTeam'] == team) | (df['AwayTeam'] == team)].copy()\n",
    "\n",
    "    team_matches = team_matches.sort_values(by='Date', ascending=False).head(num_matches)\n",
    "\n",
    "    form = []\n",
    "\n",
    "    for _, row in team_matches.iterrows():\n",
    "        is_home = row['HomeTeam'] == team\n",
    "        goals_for = row['FTHG'] if is_home else row['FTAG']\n",
    "        goals_against = row['FTAG'] if is_home else row['FTHG']\n",
    "\n",
    "        if goals_for > goals_against:\n",
    "            form.append('W')\n",
    "        elif goals_for == goals_against:\n",
    "            form.append('D')\n",
    "        else:\n",
    "            form.append('L')\n",
    "\n",
    "    return form[::-1]  \n",
    "\n",
    "#get_team_form(df, 'Tottenham')"
   ]
  },
  {
   "cell_type": "code",
   "execution_count": 8,
   "id": "88ca5176",
   "metadata": {},
   "outputs": [
    {
     "name": "stderr",
     "output_type": "stream",
     "text": [
      "/var/folders/rt/kk5y63zd2dl20zp4x97pdp2m0000gn/T/ipykernel_75396/1742109355.py:13: PerformanceWarning: DataFrame is highly fragmented.  This is usually the result of calling `frame.insert` many times, which has poor performance.  Consider joining all columns at once using pd.concat(axis=1) instead. To get a de-fragmented frame, use `newframe = frame.copy()`\n",
      "  df['home_max_odds'] = df[home_cols].max(axis=1)\n",
      "/var/folders/rt/kk5y63zd2dl20zp4x97pdp2m0000gn/T/ipykernel_75396/1742109355.py:13: SettingWithCopyWarning: \n",
      "A value is trying to be set on a copy of a slice from a DataFrame.\n",
      "Try using .loc[row_indexer,col_indexer] = value instead\n",
      "\n",
      "See the caveats in the documentation: https://pandas.pydata.org/pandas-docs/stable/user_guide/indexing.html#returning-a-view-versus-a-copy\n",
      "  df['home_max_odds'] = df[home_cols].max(axis=1)\n",
      "/var/folders/rt/kk5y63zd2dl20zp4x97pdp2m0000gn/T/ipykernel_75396/1742109355.py:14: PerformanceWarning: DataFrame is highly fragmented.  This is usually the result of calling `frame.insert` many times, which has poor performance.  Consider joining all columns at once using pd.concat(axis=1) instead. To get a de-fragmented frame, use `newframe = frame.copy()`\n",
      "  df['draw_max_odds'] = df[draw_cols].max(axis=1)\n",
      "/var/folders/rt/kk5y63zd2dl20zp4x97pdp2m0000gn/T/ipykernel_75396/1742109355.py:14: SettingWithCopyWarning: \n",
      "A value is trying to be set on a copy of a slice from a DataFrame.\n",
      "Try using .loc[row_indexer,col_indexer] = value instead\n",
      "\n",
      "See the caveats in the documentation: https://pandas.pydata.org/pandas-docs/stable/user_guide/indexing.html#returning-a-view-versus-a-copy\n",
      "  df['draw_max_odds'] = df[draw_cols].max(axis=1)\n",
      "/var/folders/rt/kk5y63zd2dl20zp4x97pdp2m0000gn/T/ipykernel_75396/1742109355.py:15: PerformanceWarning: DataFrame is highly fragmented.  This is usually the result of calling `frame.insert` many times, which has poor performance.  Consider joining all columns at once using pd.concat(axis=1) instead. To get a de-fragmented frame, use `newframe = frame.copy()`\n",
      "  df['away_max_odds'] = df[away_cols].max(axis=1)\n",
      "/var/folders/rt/kk5y63zd2dl20zp4x97pdp2m0000gn/T/ipykernel_75396/1742109355.py:15: SettingWithCopyWarning: \n",
      "A value is trying to be set on a copy of a slice from a DataFrame.\n",
      "Try using .loc[row_indexer,col_indexer] = value instead\n",
      "\n",
      "See the caveats in the documentation: https://pandas.pydata.org/pandas-docs/stable/user_guide/indexing.html#returning-a-view-versus-a-copy\n",
      "  df['away_max_odds'] = df[away_cols].max(axis=1)\n"
     ]
    }
   ],
   "source": [
    "bet_providers = ['B365', 'BFE', 'BF', 'PS']\n",
    "\n",
    "home_cols = []\n",
    "draw_cols = []\n",
    "away_cols = []\n",
    "\n",
    "for bet in bet_providers:\n",
    "    home_cols.append(bet + 'H')\n",
    "    draw_cols.append(bet + 'D')\n",
    "    away_cols.append(bet + 'A')\n",
    "\n",
    "\n",
    "df['home_max_odds'] = df[home_cols].max(axis=1)\n",
    "df['draw_max_odds'] = df[draw_cols].max(axis=1)\n",
    "df['away_max_odds'] = df[away_cols].max(axis=1)\n",
    "\n",
    "col_list = ['Div', 'Date', 'HomeTeam', 'AwayTeam', 'FTHG', 'FTAG', 'B365H', 'B365D', 'B365A', 'PSH', 'PSD', 'PSA', 'home_max_odds', 'draw_max_odds', 'away_max_odds']\n",
    "df = df[col_list]"
   ]
  },
  {
   "cell_type": "code",
   "execution_count": 9,
   "id": "4ea1d121",
   "metadata": {},
   "outputs": [
    {
     "name": "stdout",
     "output_type": "stream",
     "text": [
      "319     1.030487\n",
      "318     1.033956\n",
      "317     1.037391\n",
      "314     1.039751\n",
      "316     1.032722\n",
      "          ...   \n",
      "8175         NaN\n",
      "8176         NaN\n",
      "8177         NaN\n",
      "8178         NaN\n",
      "8179         NaN\n",
      "Length: 10780, dtype: float64\n"
     ]
    }
   ],
   "source": [
    "def divide(df):\n",
    "    res = 1/df\n",
    "    return res\n",
    "\n",
    "\n",
    "test = df['B365A']\n",
    "\n",
    "\n",
    "for index, odd in enumerate(df['PSH']):\n",
    "    df.at[index, 'home_probability'] = divide(odd)\n",
    "for index, odd in enumerate(df['PSD']):\n",
    "    df.at[index, 'draw_probability'] = divide(odd)\n",
    "for index, odd in enumerate(df['PSA']):\n",
    "    df.at[index, 'away_probability'] = divide(odd)\n",
    "\n",
    "tot_prob = df['home_probability'] + df['draw_probability'] + df['away_probability']\n",
    "print(tot_prob)"
   ]
  },
  {
   "cell_type": "code",
   "execution_count": null,
   "id": "3aae189a",
   "metadata": {},
   "outputs": [],
   "source": []
  }
 ],
 "metadata": {
  "kernelspec": {
   "display_name": "venv",
   "language": "python",
   "name": "python3"
  },
  "language_info": {
   "codemirror_mode": {
    "name": "ipython",
    "version": 3
   },
   "file_extension": ".py",
   "mimetype": "text/x-python",
   "name": "python",
   "nbconvert_exporter": "python",
   "pygments_lexer": "ipython3",
   "version": "3.12.2"
  }
 },
 "nbformat": 4,
 "nbformat_minor": 5
}
